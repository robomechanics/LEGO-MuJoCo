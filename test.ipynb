{
 "cells": [
  {
   "cell_type": "code",
   "execution_count": 2,
   "metadata": {},
   "outputs": [],
   "source": [
    "if []: print('[] is True')"
   ]
  },
  {
   "cell_type": "code",
   "execution_count": null,
   "metadata": {},
   "outputs": [],
   "source": [
    "import xml.etree.ElementTree as ET\n",
    "\n",
    "scene_path = \"robots/duplo_ballfeet_mjcf/scene.xml\"\n",
    "scene_tree = ET.parse(scene_path)\n",
    "scene_root = scene_tree.getroot()\n",
    "\n",
    "# extract the file value of include tag\n",
    "model_subpath = scene_root.find(\"include\").get(\"file\")\n",
    "# get directory from scene path\n",
    "scene_dir = \"/\".join(scene_path.split(\"/\")[:-1])\n",
    "model_path = f\"{scene_dir}/{model_subpath}\"\n",
    "\n",
    "model_tree = ET.parse(model_path)\n",
    "model_root = model_tree.getroot()\n",
    "\n",
    "# loop through every possible level to find geom tag and make dict of geom_name:mass\n",
    "mass_dict, mass_scale_dict = {}, {}\n",
    "worldbody = model_root.find('worldbody')\n",
    "assert worldbody is not None, \"worldbody tag not found\"\n",
    "geoms = worldbody.findall('.//geom')\n",
    "for geom in geoms:\n",
    "    mass = geom.get('mass')\n",
    "    assert mass is not None, \"mass attribute not found\"\n",
    "    name = geom.get('mesh')\n",
    "    mass_dict[name] = float(mass)\n",
    "    mass_scale_dict[name] = 2\n",
    "\n",
    "print(mass_dict)  \n",
    "\n",
    "for k,v in mass_scale_dict.items():\n",
    "    mass_dict[k] *= v\n",
    "\n",
    "print(mass_dict)\n",
    "\n",
    "# update the mass attribute of geom tag\n",
    "for geom in geoms:\n",
    "    name = geom.get('mesh')\n",
    "    geom.set('mass', str(mass_dict[name]))\n",
    "\n",
    "print(ET.tostring(model_root, encoding='unicode'))\n"
   ]
  },
  {
   "cell_type": "code",
   "execution_count": 1,
   "metadata": {},
   "outputs": [
    {
     "name": "stdout",
     "output_type": "stream",
     "text": [
      "{'battery': 0.73, 'part_1': 0.63, 'leg': 0.25, 'arm': 0.2, 'hip': 0.2}\n",
      "{'battery': 1.46, 'part_1': 1.26, 'leg': 0.5, 'arm': 0.4, 'hip': 0.4}\n"
     ]
    }
   ],
   "source": [
    "from xml_handler import *\n",
    "\n",
    "scene_path = \"robots/duplo_ballfeet_mjcf/scene.xml\"\n",
    "model_path = scene_path_to_robot_path(scene_path)\n",
    "model_tree = ET.parse(model_path)\n",
    "model_root = model_tree.getroot()\n",
    "mass_dict, mass_scale_dict = get_mass_of_geoms(model_root)\n",
    "\n",
    "print(mass_dict)\n",
    "\n",
    "apply_mass_scale(model_root, mass_dict, mass_scale_dict)\n",
    "\n",
    "print(mass_dict)"
   ]
  },
  {
   "cell_type": "code",
   "execution_count": 5,
   "metadata": {},
   "outputs": [],
   "source": [
    "if None: print('h')"
   ]
  },
  {
   "cell_type": "code",
   "execution_count": 6,
   "metadata": {},
   "outputs": [
    {
     "name": "stdout",
     "output_type": "stream",
     "text": [
      "okok2\n"
     ]
    }
   ],
   "source": [
    "v1= \"ok\"\n",
    "v2 = \"ok2\"\n",
    "\n",
    "v3 = (f\"{v1}\"\n",
    "      f\"{v2}\")\n",
    "\n",
    "print(v3)"
   ]
  },
  {
   "cell_type": "code",
   "execution_count": 4,
   "metadata": {},
   "outputs": [
    {
     "data": {
      "text/plain": [
       "0.6280357421873496"
      ]
     },
     "execution_count": 4,
     "metadata": {},
     "output_type": "execute_result"
    }
   ],
   "source": [
    "np.sqrt(9.81/0.63) / (2*np.pi)"
   ]
  },
  {
   "cell_type": "code",
   "execution_count": 2,
   "metadata": {},
   "outputs": [
    {
     "name": "stdout",
     "output_type": "stream",
     "text": [
      "0 1 2\n",
      "1 3 4\n",
      "2 5 6\n"
     ]
    }
   ],
   "source": [
    "l = []\n",
    "l.append((1,2))\n",
    "l.append((3,4))\n",
    "l.append((5,6))\n",
    "\n",
    "for i, (j, k) in enumerate(l):\n",
    "    print(i, j, k)"
   ]
  },
  {
   "cell_type": "code",
   "execution_count": 4,
   "metadata": {},
   "outputs": [
    {
     "name": "stdout",
     "output_type": "stream",
     "text": [
      "{'b', 'a'}\n"
     ]
    }
   ],
   "source": [
    "dict = {\"a\" : 1, \"b\" : 2}\n",
    "\n",
    "print(set(dict.keys()))"
   ]
  },
  {
   "cell_type": "code",
   "execution_count": 4,
   "metadata": {},
   "outputs": [
    {
     "name": "stdout",
     "output_type": "stream",
     "text": [
      "{'a': 1, 'b': 2, 'c': 5}\n"
     ]
    }
   ],
   "source": [
    "dict['c'] = 5\n",
    "\n",
    "print(dict)"
   ]
  },
  {
   "cell_type": "code",
   "execution_count": 3,
   "metadata": {},
   "outputs": [
    {
     "ename": "TypeError",
     "evalue": "unsupported operand type(s) for +: 'set' and 'set'",
     "output_type": "error",
     "traceback": [
      "\u001b[0;31m---------------------------------------------------------------------------\u001b[0m",
      "\u001b[0;31mTypeError\u001b[0m                                 Traceback (most recent call last)",
      "Cell \u001b[0;32mIn[3], line 4\u001b[0m\n\u001b[1;32m      1\u001b[0m tracking_attr \u001b[38;5;241m=\u001b[39m {\u001b[38;5;124m\"\u001b[39m\u001b[38;5;124mtype\u001b[39m\u001b[38;5;124m\"\u001b[39m, \u001b[38;5;124m\"\u001b[39m\u001b[38;5;124mtrackbodyid\u001b[39m\u001b[38;5;124m\"\u001b[39m}\n\u001b[0;32m----> 4\u001b[0m \u001b[38;5;28;01mfor\u001b[39;00m i \u001b[38;5;129;01min\u001b[39;00m \u001b[43mtracking_attr\u001b[49m\u001b[43m \u001b[49m\u001b[38;5;241;43m+\u001b[39;49m\u001b[43m \u001b[49m\u001b[43m{\u001b[49m\u001b[38;5;124;43m\"\u001b[39;49m\u001b[38;5;124;43ma\u001b[39;49m\u001b[38;5;124;43m\"\u001b[39;49m\u001b[43m}\u001b[49m:\n\u001b[1;32m      5\u001b[0m     \u001b[38;5;28mprint\u001b[39m(i)\n",
      "\u001b[0;31mTypeError\u001b[0m: unsupported operand type(s) for +: 'set' and 'set'"
     ]
    }
   ],
   "source": [
    "tracking_attr = {\"type\", \"trackbodyid\"}\n",
    "\n",
    "\n",
    "for i in tracking_attr + {\"a\"}:\n",
    "    print(i)"
   ]
  },
  {
   "cell_type": "code",
   "execution_count": null,
   "metadata": {},
   "outputs": [],
   "source": []
  }
 ],
 "metadata": {
  "kernelspec": {
   "display_name": "py310",
   "language": "python",
   "name": "python3"
  },
  "language_info": {
   "codemirror_mode": {
    "name": "ipython",
    "version": 3
   },
   "file_extension": ".py",
   "mimetype": "text/x-python",
   "name": "python",
   "nbconvert_exporter": "python",
   "pygments_lexer": "ipython3",
   "version": "3.10.16"
  }
 },
 "nbformat": 4,
 "nbformat_minor": 2
}
